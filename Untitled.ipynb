{
 "cells": [
  {
   "cell_type": "code",
   "execution_count": 43,
   "metadata": {},
   "outputs": [],
   "source": [
    "import matplotlib.pyplot as plt\n",
    "from sklearn.linear_model import LogisticRegression\n",
    "from sklearn.metrics import classification_report\n",
    "import pandas as pd\n",
    "import sklearn.metrics as metrics\n",
    "from sklearn.metrics import f1_score\n",
    "import numpy as np\n",
    "from sklearn.ensemble import RandomForestClassifier\n",
    "import random\n",
    "from sklearn import tree"
   ]
  },
  {
   "cell_type": "code",
   "execution_count": null,
   "metadata": {},
   "outputs": [],
   "source": []
  },
  {
   "cell_type": "code",
   "execution_count": 62,
   "metadata": {},
   "outputs": [
    {
     "data": {
      "text/plain": [
       "array([ 0,  1,  5,  2,  3,  4,  6,  8,  7,  9, 10, 11, 12, 13, 14, 15, 16,\n",
       "       17, 18, 19, 20, 21, 22, 26, 23, 24, 25])"
      ]
     },
     "execution_count": 62,
     "metadata": {},
     "output_type": "execute_result"
    }
   ],
   "source": [
    "# read csv into pandas dataframe\n",
    "df = pd.read_csv('goodreads_output2.csv')\n",
    "df['category'] = df['category'].map({\n",
    "'Graphic Novels & Comics' : 0,\n",
    "'Young Adult Fiction' : 1,\n",
    "'Memoir & Autobiography' : 5,\n",
    "'Picture Books' : 2,\n",
    "'Romance' : 3,\n",
    "'Humor' : 4,\n",
    "'Poetry' : 6,\n",
    "'Horror' : 8,\n",
    "'Young Adult Fantasy' : 7,\n",
    "'Science Fiction' : 9,\n",
    "\"Middle Grade & Children's\" : 10,\n",
    "'History & Biography' : 11,\n",
    "'Nonfiction' : 12,\n",
    "'Fantasy': 13,\n",
    "'Mystery & Thriller' : 14,\n",
    "'Historical Fiction' : 15,\n",
    "'Debut Goodreads Author' : 16,\n",
    "'Fiction' : 17,\n",
    "'Paranormal Fantasy' : 18,\n",
    "'Food & Cookbooks' : 19,\n",
    "'Business Books' : 20,\n",
    "'Science & Technology' : 21,\n",
    "'Goodreads Author' : 22,\n",
    "'Debut Novel' : 23,\n",
    "'Best of the Best' : 24,\n",
    "'Travel & Outdoors' : 25,\n",
    "'Food & Cooking' : 19,\n",
    "'Favorite Book of 2011' : 24,\n",
    "'Debut Author' : 26\n",
    "})\n",
    "df['category'].unique()"
   ]
  },
  {
   "cell_type": "code",
   "execution_count": 34,
   "metadata": {},
   "outputs": [
    {
     "name": "stdout",
     "output_type": "stream",
     "text": [
      "Fiction\n",
      "Nonfiction\n",
      "Nonfiction\n",
      "Middle Grade & Children's\n",
      "Picture Books\n",
      "Middle Grade & Children's\n",
      "Romance\n",
      "Historical Fiction\n",
      "History & Biography\n",
      "Young Adult Fantasy\n",
      "Graphic Novels & Comics\n",
      "Humor\n",
      "Fiction\n",
      "Mystery & Thriller\n",
      "Nonfiction\n",
      "Debut Goodreads Author\n",
      "Picture Books\n",
      "Historical Fiction\n",
      "Memoir & Autobiography\n",
      "History & Biography\n",
      "Nonfiction\n",
      "Science Fiction\n",
      "Poetry\n",
      "Poetry\n",
      "Graphic Novels & Comics\n",
      "Poetry\n"
     ]
    }
   ],
   "source": [
    " for i in random.sample(list(df['category']),k=26):\n",
    "        print(i)"
   ]
  },
  {
   "cell_type": "code",
   "execution_count": null,
   "metadata": {},
   "outputs": [],
   "source": []
  },
  {
   "cell_type": "code",
   "execution_count": null,
   "metadata": {},
   "outputs": [],
   "source": []
  },
  {
   "cell_type": "code",
   "execution_count": 63,
   "metadata": {},
   "outputs": [],
   "source": [
    "def train_year_category(logreg,data_temp,pram_train):\n",
    "    for year in [2011, 2017, 2013, 2016, 2014, 20115, 2012]:\n",
    "#         for i in random.sample(range(26), k=26):\n",
    "      for i in random.sample(list(df['category']),k=26):\n",
    "            data_train = data_temp.loc[(data_temp['year'].isin([year]))]\n",
    "            data_train = data_train.loc[(data_temp['category'].isin([i]))]\n",
    "            X_train = data_train[pram_train]\n",
    "            y_train = data_train['winner']\n",
    "            if(len(X_train)!=0):\n",
    "                logreg.fit(X_train, y_train)"
   ]
  },
  {
   "cell_type": "code",
   "execution_count": null,
   "metadata": {},
   "outputs": [],
   "source": []
  },
  {
   "cell_type": "code",
   "execution_count": null,
   "metadata": {},
   "outputs": [],
   "source": []
  },
  {
   "cell_type": "code",
   "execution_count": 64,
   "metadata": {},
   "outputs": [],
   "source": [
    "\n",
    "def validation_category_base(logreg,data_validation,pram_train):\n",
    "#     for i in random.sample(list(df['category']),k=26):\n",
    "    for i in random.sample(range(26), k=26):\n",
    "#      data_train = data_te.loc[(data_temp['category'].isin([i]))]\n",
    "        data_test = data_validation.loc[(data_validation['category'].isin([i]))]\n",
    "        X_validation = data_test[pram_train]\n",
    "        y_validation = data_test['winner']\n",
    "        if len(X_validation!=0):\n",
    "            y_result = logreg.predict(X_validation)\n",
    "            predictions = pd.DataFrame(y_result)\n",
    "            print(list(y_validation))\n",
    "            print(list(y_result))\n",
    "            print(classification_report(y_validation, y_result))\n",
    "            print('Accuracy: ', metrics.accuracy_score(y_validation, y_result))\n",
    "            print('F1 score:', metrics.f1_score(y_validation, y_result, average='weighted', labels=np.unique(y_result)))\n",
    "            if  metrics.accuracy_score(y_validation, y_result)>0.8 and metrics.f1_score(y_validation, y_result, average='weighted', labels=np.unique(y_result))>0.8:\n",
    "                                                                                      print('category',i)\n",
    "            print(\"------------------------------------------------------\")\n",
    "#     predictions[0].value_counts()\n",
    "# X_validation"
   ]
  },
  {
   "cell_type": "code",
   "execution_count": 65,
   "metadata": {},
   "outputs": [],
   "source": [
    "def train_category_year(logreg,data_temp,pram_train):\n",
    "    for i in range(26):\n",
    "#     for i in random.sample(list(df['category']),k=26):\n",
    "        for year in [2011, 2017, 2013, 2016, 2014, 20115, 2012]:\n",
    "            data_train = data_temp.loc[(data_temp['year'].isin([year]))]\n",
    "            data_train = data_train.loc[(data_temp['category'].isin([i]))]\n",
    "            X_train = data_train[pram_train]\n",
    "            y_train = data_train['winner']\n",
    "            if(len(X_train)!=0):\n",
    "                logreg.fit(X_train, y_train)"
   ]
  },
  {
   "cell_type": "code",
   "execution_count": 66,
   "metadata": {},
   "outputs": [],
   "source": [
    "def validate_all_together(logreg,data_validation,pram_train):\n",
    "    print(\"validating with out category sepration\")\n",
    "    X_validation = data_validation[pram_train]\n",
    "    y_validation = data_validation['winner']\n",
    "    if len(X_validation!=0):\n",
    "        y_result = logreg.predict(X_validation)\n",
    "        predictions = pd.DataFrame(y_result)\n",
    "        print(classification_report(y_validation, y_result))\n",
    "        print('Accuracy: ', metrics.accuracy_score(y_validation, y_result))\n",
    "        print('F1 score:', metrics.f1_score(y_validation, y_result, average='weighted', labels=np.unique(y_result)))\n",
    "#         plt.scatter(y_validation,y_result )\n",
    "#     predictions[0].value_counts()\n",
    "# X_validation"
   ]
  },
  {
   "cell_type": "code",
   "execution_count": 67,
   "metadata": {},
   "outputs": [],
   "source": [
    "data_temp = df.loc[~(df['year'].isin([2018,2019]))]\n",
    "# logreg = LogisticRegression(solver='liblinear', class_weight = 'balanced')    \n",
    "data_validation = df.loc[(df['year'].isin([2018]))]\n",
    "pram_train = [ 'category', 'average rating', 'num 1 stars', 'num 2 stars', 'num 3 stars', 'num 4 stars', 'num 5 stars']"
   ]
  },
  {
   "cell_type": "code",
   "execution_count": 125,
   "metadata": {},
   "outputs": [
    {
     "name": "stdout",
     "output_type": "stream",
     "text": [
      "[0, 0, 0, 0, 0, 0, 0, 1, 0, 0, 0, 0, 0, 0, 0, 0, 0, 0, 0, 0]\n",
      "[0, 0, 0, 1, 1, 0, 0, 1, 1, 1, 0, 1, 1, 1, 1, 1, 0, 1, 1, 1]\n",
      "             precision    recall  f1-score   support\n",
      "\n",
      "          0       1.00      0.37      0.54        19\n",
      "          1       0.08      1.00      0.14         1\n",
      "\n",
      "avg / total       0.95      0.40      0.52        20\n",
      "\n",
      "Accuracy:  0.4\n",
      "F1 score: 0.5186813186813186\n",
      "------------------------------------------------------\n",
      "[0, 0, 0, 0, 0, 0, 0, 0, 0, 0, 0, 0, 0, 0, 0, 1, 0, 0, 0, 0]\n",
      "[1, 1, 0, 0, 0, 0, 1, 1, 0, 0, 1, 1, 0, 1, 0, 0, 1, 1, 1, 1]\n",
      "             precision    recall  f1-score   support\n",
      "\n",
      "          0       0.89      0.42      0.57        19\n",
      "          1       0.00      0.00      0.00         1\n",
      "\n",
      "avg / total       0.84      0.40      0.54        20\n",
      "\n",
      "Accuracy:  0.4\n",
      "F1 score: 0.5428571428571428\n",
      "------------------------------------------------------\n",
      "[0, 0, 0, 0, 0, 0, 0, 0, 0, 0, 0, 0, 1, 0, 0, 0, 0, 0, 0, 0]\n",
      "[0, 0, 0, 0, 1, 0, 1, 0, 0, 1, 1, 1, 1, 0, 0, 1, 1, 1, 0, 0]\n",
      "             precision    recall  f1-score   support\n",
      "\n",
      "          0       1.00      0.58      0.73        19\n",
      "          1       0.11      1.00      0.20         1\n",
      "\n",
      "avg / total       0.96      0.60      0.71        20\n",
      "\n",
      "Accuracy:  0.6\n",
      "F1 score: 0.7066666666666667\n",
      "------------------------------------------------------\n",
      "[0, 0, 0, 0, 0, 0, 0, 0, 0, 0, 0, 0, 1, 0, 0, 0, 0, 0, 0, 0]\n",
      "[0, 0, 0, 0, 1, 0, 0, 0, 0, 0, 0, 1, 0, 1, 1, 0, 1, 0, 1, 0]\n",
      "             precision    recall  f1-score   support\n",
      "\n",
      "          0       0.93      0.68      0.79        19\n",
      "          1       0.00      0.00      0.00         1\n",
      "\n",
      "avg / total       0.88      0.65      0.75        20\n",
      "\n",
      "Accuracy:  0.65\n",
      "F1 score: 0.7484848484848484\n",
      "------------------------------------------------------\n",
      "[0, 0, 0, 0, 0, 1, 0, 0, 0, 0, 0, 0, 0, 0, 0, 0, 0, 0, 0, 0]\n",
      "[0, 0, 1, 0, 1, 0, 0, 0, 0, 0, 1, 1, 0, 0, 0, 1, 0, 0, 0, 1]\n",
      "             precision    recall  f1-score   support\n",
      "\n",
      "          0       0.93      0.68      0.79        19\n",
      "          1       0.00      0.00      0.00         1\n",
      "\n",
      "avg / total       0.88      0.65      0.75        20\n",
      "\n",
      "Accuracy:  0.65\n",
      "F1 score: 0.7484848484848484\n",
      "------------------------------------------------------\n",
      "[0, 0, 0, 0, 0, 0, 0, 0, 0, 0, 0, 0, 0, 0, 0, 0, 0, 0, 0, 1]\n",
      "[0, 1, 1, 1, 0, 0, 0, 0, 0, 0, 1, 1, 0, 0, 1, 0, 0, 0, 1, 0]\n",
      "             precision    recall  f1-score   support\n",
      "\n",
      "          0       0.92      0.63      0.75        19\n",
      "          1       0.00      0.00      0.00         1\n",
      "\n",
      "avg / total       0.88      0.60      0.71        20\n",
      "\n",
      "Accuracy:  0.6\n",
      "F1 score: 0.7124999999999999\n",
      "------------------------------------------------------\n",
      "[0, 0, 0, 0, 0, 0, 0, 0, 0, 0, 0, 0, 0, 0, 0, 0, 1, 0, 0, 0]\n",
      "[1, 0, 0, 0, 0, 0, 0, 0, 0, 0, 0, 0, 0, 0, 1, 0, 1, 0, 0, 0]\n",
      "             precision    recall  f1-score   support\n",
      "\n",
      "          0       1.00      0.89      0.94        19\n",
      "          1       0.33      1.00      0.50         1\n",
      "\n",
      "avg / total       0.97      0.90      0.92        20\n",
      "\n",
      "Accuracy:  0.9\n",
      "F1 score: 0.9222222222222222\n",
      "category 19\n",
      "------------------------------------------------------\n",
      "[0, 0, 0, 0, 0, 0, 0, 0, 0, 0, 0, 0, 0, 1, 0, 0, 0, 0, 0, 0]\n",
      "[1, 1, 1, 0, 1, 1, 0, 1, 0, 1, 1, 1, 0, 1, 1, 0, 1, 0, 1, 1]\n",
      "             precision    recall  f1-score   support\n",
      "\n",
      "          0       1.00      0.32      0.48        19\n",
      "          1       0.07      1.00      0.13         1\n",
      "\n",
      "avg / total       0.95      0.35      0.46        20\n",
      "\n",
      "Accuracy:  0.35\n",
      "F1 score: 0.4626666666666666\n",
      "------------------------------------------------------\n",
      "[0, 0, 0, 0, 0, 0, 0, 0, 0, 0, 0, 0, 0, 0, 0, 0, 0, 0, 1, 0]\n",
      "[1, 0, 0, 0, 1, 0, 1, 0, 0, 1, 1, 0, 0, 0, 1, 0, 1, 1, 1, 0]\n",
      "             precision    recall  f1-score   support\n",
      "\n",
      "          0       1.00      0.58      0.73        19\n",
      "          1       0.11      1.00      0.20         1\n",
      "\n",
      "avg / total       0.96      0.60      0.71        20\n",
      "\n",
      "Accuracy:  0.6\n",
      "F1 score: 0.7066666666666667\n",
      "------------------------------------------------------\n",
      "[0, 0, 0, 0, 0, 0, 0, 0, 0, 0, 0, 0, 0, 0, 0, 1, 0, 0, 0, 0]\n",
      "[0, 0, 0, 0, 0, 1, 0, 0, 0, 0, 0, 1, 0, 0, 1, 0, 0, 0, 0, 0]\n",
      "             precision    recall  f1-score   support\n",
      "\n",
      "          0       0.94      0.84      0.89        19\n",
      "          1       0.00      0.00      0.00         1\n",
      "\n",
      "avg / total       0.89      0.80      0.84        20\n",
      "\n",
      "Accuracy:  0.8\n",
      "F1 score: 0.8444444444444444\n",
      "------------------------------------------------------\n",
      "[0, 0, 0, 0, 0, 1, 0, 0, 0, 0, 0, 0, 0, 0, 0, 0, 0, 0, 0, 0]\n",
      "[0, 0, 0, 0, 1, 0, 0, 0, 0, 1, 0, 0, 0, 0, 0, 0, 1, 0, 1, 0]\n",
      "             precision    recall  f1-score   support\n",
      "\n",
      "          0       0.94      0.79      0.86        19\n",
      "          1       0.00      0.00      0.00         1\n",
      "\n",
      "avg / total       0.89      0.75      0.81        20\n",
      "\n",
      "Accuracy:  0.75\n",
      "F1 score: 0.8142857142857144\n",
      "------------------------------------------------------\n",
      "[0, 0, 0, 0, 0, 0, 0, 0, 0, 0, 0, 0, 0, 0, 0, 0, 0, 0, 1, 0]\n",
      "[0, 0, 1, 0, 0, 1, 0, 1, 0, 0, 0, 1, 0, 0, 0, 0, 1, 1, 0, 1]\n",
      "             precision    recall  f1-score   support\n",
      "\n",
      "          0       0.92      0.63      0.75        19\n",
      "          1       0.00      0.00      0.00         1\n",
      "\n",
      "avg / total       0.88      0.60      0.71        20\n",
      "\n",
      "Accuracy:  0.6\n",
      "F1 score: 0.7124999999999999\n",
      "------------------------------------------------------\n",
      "[0, 0, 0, 0, 0, 0, 0, 0, 0, 0, 0, 1, 0, 0, 0, 0, 0, 0, 0, 0]\n",
      "[0, 0, 0, 0, 1, 0, 0, 0, 0, 0, 1, 0, 0, 0, 0, 0, 0, 1, 0, 0]\n",
      "             precision    recall  f1-score   support\n",
      "\n",
      "          0       0.94      0.84      0.89        19\n",
      "          1       0.00      0.00      0.00         1\n",
      "\n",
      "avg / total       0.89      0.80      0.84        20\n",
      "\n",
      "Accuracy:  0.8\n",
      "F1 score: 0.8444444444444444\n",
      "------------------------------------------------------\n",
      "[0, 0, 0, 0, 0, 0, 0, 0, 0, 0, 0, 0, 0, 0, 0, 0, 1, 0, 0, 0]\n",
      "[0, 0, 0, 0, 0, 1, 0, 1, 0, 0, 0, 0, 0, 0, 1, 0, 0, 0, 0, 0]\n",
      "             precision    recall  f1-score   support\n",
      "\n",
      "          0       0.94      0.84      0.89        19\n",
      "          1       0.00      0.00      0.00         1\n",
      "\n",
      "avg / total       0.89      0.80      0.84        20\n",
      "\n",
      "Accuracy:  0.8\n",
      "F1 score: 0.8444444444444444\n",
      "------------------------------------------------------\n",
      "[0, 0, 0, 0, 0, 0, 0, 0, 0, 0, 0, 0, 0, 0, 0, 0, 0, 1, 0, 0]\n",
      "[0, 0, 0, 0, 1, 0, 1, 1, 0, 0, 0, 1, 1, 0, 0, 0, 0, 0, 0, 0]\n",
      "             precision    recall  f1-score   support\n",
      "\n",
      "          0       0.93      0.74      0.82        19\n",
      "          1       0.00      0.00      0.00         1\n",
      "\n",
      "avg / total       0.89      0.70      0.78        20\n",
      "\n",
      "Accuracy:  0.7\n",
      "F1 score: 0.7823529411764706\n",
      "------------------------------------------------------\n",
      "[0, 0, 0, 0, 0, 0, 0, 1, 0, 0, 0, 0, 0, 0, 0, 0, 0, 0, 0, 0]\n",
      "[0, 0, 0, 0, 1, 0, 0, 0, 0, 0, 0, 1, 0, 0, 1, 0, 0, 1, 0, 1]\n",
      "             precision    recall  f1-score   support\n",
      "\n",
      "          0       0.93      0.74      0.82        19\n",
      "          1       0.00      0.00      0.00         1\n",
      "\n",
      "avg / total       0.89      0.70      0.78        20\n",
      "\n",
      "Accuracy:  0.7\n",
      "F1 score: 0.7823529411764706\n",
      "------------------------------------------------------\n",
      "[0, 0, 0, 0, 0, 0, 0, 0, 0, 0, 1, 0, 0, 0, 0, 0, 0, 0, 0, 0, 0, 0, 0, 0]\n",
      "[0, 0, 0, 0, 1, 0, 0, 0, 0, 1, 1, 0, 1, 0, 1, 1, 1, 0, 0, 1, 1, 1, 1, 0]\n",
      "             precision    recall  f1-score   support\n",
      "\n",
      "          0       1.00      0.57      0.72        23\n",
      "          1       0.09      1.00      0.17         1\n",
      "\n",
      "avg / total       0.96      0.58      0.70        24\n",
      "\n",
      "Accuracy:  0.5833333333333334\n",
      "F1 score: 0.6990740740740741\n",
      "------------------------------------------------------\n",
      "[0, 0, 0, 0, 0, 0, 0, 0, 0, 0, 0, 0, 0, 0, 0, 0, 0, 1, 0, 0]\n",
      "[0, 0, 1, 1, 0, 1, 1, 1, 0, 1, 1, 0, 1, 0, 1, 0, 0, 0, 1, 0]\n",
      "             precision    recall  f1-score   support\n",
      "\n",
      "          0       0.90      0.47      0.62        19\n",
      "          1       0.00      0.00      0.00         1\n",
      "\n",
      "avg / total       0.86      0.45      0.59        20\n",
      "\n",
      "Accuracy:  0.45\n",
      "F1 score: 0.5896551724137932\n",
      "------------------------------------------------------\n",
      "[0, 0, 0, 0, 0, 0, 0, 0, 0, 0, 0, 0, 0, 1, 0, 0, 0, 0, 0, 0]\n",
      "[1, 1, 0, 1, 1, 1, 0, 1, 1, 1, 0, 1, 1, 1, 1, 1, 1, 0, 1, 1]\n",
      "             precision    recall  f1-score   support\n",
      "\n",
      "          0       1.00      0.21      0.35        19\n",
      "          1       0.06      1.00      0.12         1\n",
      "\n",
      "avg / total       0.95      0.25      0.34        20\n",
      "\n",
      "Accuracy:  0.25\n",
      "F1 score: 0.3363171355498721\n",
      "------------------------------------------------------\n",
      "[0, 0, 0, 0, 0, 0, 0, 0, 0, 0, 0, 0, 0, 0, 0, 0, 0, 0, 0, 1]\n",
      "[0, 0, 0, 1, 0, 0, 0, 0, 0, 1, 1, 0, 0, 1, 1, 0, 0, 0, 1, 0]\n",
      "             precision    recall  f1-score   support\n",
      "\n",
      "          0       0.93      0.68      0.79        19\n",
      "          1       0.00      0.00      0.00         1\n",
      "\n",
      "avg / total       0.88      0.65      0.75        20\n",
      "\n",
      "Accuracy:  0.65\n",
      "F1 score: 0.7484848484848484\n",
      "------------------------------------------------------\n"
     ]
    }
   ],
   "source": [
    "logreg = tree.DecisionTreeClassifier(class_weight={})    \n",
    "train_category_year(logreg,data_temp,pram_train)\n",
    "validation_category_base(logreg,data_validation,pram_train)"
   ]
  },
  {
   "cell_type": "code",
   "execution_count": 122,
   "metadata": {},
   "outputs": [
    {
     "ename": "NameError",
     "evalue": "name 'balence' is not defined",
     "traceback": [
      "\u001b[0;31m---------------------------------------------------------------------------\u001b[0m",
      "\u001b[0;31mNameError\u001b[0m                                 Traceback (most recent call last)",
      "\u001b[0;32m<ipython-input-122-4f707949054e>\u001b[0m in \u001b[0;36m<module>\u001b[0;34m()\u001b[0m\n\u001b[0;32m----> 1\u001b[0;31m \u001b[0mlogreg\u001b[0m \u001b[0;34m=\u001b[0m \u001b[0mtree\u001b[0m\u001b[0;34m.\u001b[0m\u001b[0mDecisionTreeClassifier\u001b[0m\u001b[0;34m(\u001b[0m\u001b[0;34m\"entropy\"\u001b[0m\u001b[0;34m,\u001b[0m\u001b[0mbalence\u001b[0m\u001b[0;34m)\u001b[0m\u001b[0;34m\u001b[0m\u001b[0;34m\u001b[0m\u001b[0m\n\u001b[0m\u001b[1;32m      2\u001b[0m \u001b[0mtrain_year_category\u001b[0m\u001b[0;34m(\u001b[0m\u001b[0mlogreg\u001b[0m\u001b[0;34m,\u001b[0m\u001b[0mdata_temp\u001b[0m\u001b[0;34m,\u001b[0m\u001b[0mpram_train\u001b[0m\u001b[0;34m)\u001b[0m\u001b[0;34m\u001b[0m\u001b[0;34m\u001b[0m\u001b[0m\n\u001b[1;32m      3\u001b[0m \u001b[0mvalidation_category_base\u001b[0m\u001b[0;34m(\u001b[0m\u001b[0mlogreg\u001b[0m\u001b[0;34m,\u001b[0m\u001b[0mdata_validation\u001b[0m\u001b[0;34m,\u001b[0m\u001b[0mpram_train\u001b[0m\u001b[0;34m)\u001b[0m\u001b[0;34m\u001b[0m\u001b[0;34m\u001b[0m\u001b[0m\n",
      "\u001b[0;31mNameError\u001b[0m: name 'balence' is not defined"
     ],
     "output_type": "error"
    }
   ],
   "source": [
    "logreg = tree.DecisionTreeClassifier(\"entropy\",balence) \n",
    "train_year_category(logreg,data_temp,pram_train)\n",
    "validation_category_base(logreg,data_validation,pram_train)"
   ]
  },
  {
   "cell_type": "code",
   "execution_count": null,
   "metadata": {},
   "outputs": [],
   "source": []
  },
  {
   "cell_type": "code",
   "execution_count": null,
   "metadata": {},
   "outputs": [],
   "source": []
  },
  {
   "cell_type": "code",
   "execution_count": null,
   "metadata": {},
   "outputs": [],
   "source": []
  },
  {
   "cell_type": "code",
   "execution_count": null,
   "metadata": {},
   "outputs": [],
   "source": []
  },
  {
   "cell_type": "code",
   "execution_count": 124,
   "metadata": {},
   "outputs": [
    {
     "name": "stdout",
     "output_type": "stream",
     "text": [
      "validating with out category sepration\n",
      "             precision    recall  f1-score   support\n",
      "\n",
      "          0       0.99      0.26      0.41       403\n",
      "          1       0.06      0.95      0.12        21\n",
      "\n",
      "avg / total       0.94      0.29      0.40       424\n",
      "\n",
      "Accuracy:  0.294811320754717\n",
      "F1 score: 0.3979836478206116\n"
     ]
    }
   ],
   "source": [
    "validate_all_together(logreg,data_validation,pram_train)"
   ]
  },
  {
   "cell_type": "code",
   "execution_count": 98,
   "metadata": {},
   "outputs": [
    {
     "name": "stdout",
     "output_type": "stream",
     "text": [
      "validating with out category sepration\n",
      "             precision    recall  f1-score   support\n",
      "\n",
      "          0       0.95      0.96      0.96       403\n",
      "          1       0.06      0.05      0.05        21\n",
      "\n",
      "avg / total       0.91      0.92      0.91       424\n",
      "\n",
      "Accuracy:  0.9150943396226415\n",
      "F1 score: 0.9108352642612821\n"
     ]
    }
   ],
   "source": [
    "# \"entropy\",min_samples_split=3\n",
    "validate_all_together(logreg,data_validation,pram_train)"
   ]
  },
  {
   "cell_type": "code",
   "execution_count": null,
   "metadata": {},
   "outputs": [],
   "source": []
  },
  {
   "cell_type": "code",
   "execution_count": 90,
   "metadata": {},
   "outputs": [
    {
     "name": "stdout",
     "output_type": "stream",
     "text": [
      "validating with out category sepration\n",
      "             precision    recall  f1-score   support\n",
      "\n",
      "          0       0.95      0.91      0.93       403\n",
      "          1       0.03      0.05      0.03        21\n",
      "\n",
      "avg / total       0.90      0.87      0.88       424\n",
      "\n",
      "Accuracy:  0.8679245283018868\n",
      "F1 score: 0.8848043616118858\n"
     ]
    }
   ],
   "source": [
    "validate_all_together(logreg,data_validation,pram_train)"
   ]
  },
  {
   "cell_type": "code",
   "execution_count": 88,
   "metadata": {},
   "outputs": [
    {
     "name": "stdout",
     "output_type": "stream",
     "text": [
      "validating with out category sepration\n",
      "             precision    recall  f1-score   support\n",
      "\n",
      "          0       0.96      0.71      0.82       403\n",
      "          1       0.07      0.43      0.12        21\n",
      "\n",
      "avg / total       0.92      0.70      0.78       424\n",
      "\n",
      "Accuracy:  0.7004716981132075\n",
      "F1 score: 0.7849132031048273\n"
     ]
    }
   ],
   "source": [
    "validate_all_together(logreg,data_validation,pram_train)"
   ]
  },
  {
   "cell_type": "code",
   "execution_count": 84,
   "metadata": {},
   "outputs": [
    {
     "name": "stdout",
     "output_type": "stream",
     "text": [
      "validating with out category sepration\n",
      "             precision    recall  f1-score   support\n",
      "\n",
      "          0       0.96      0.55      0.70       403\n",
      "          1       0.06      0.52      0.10        21\n",
      "\n",
      "avg / total       0.91      0.55      0.67       424\n",
      "\n",
      "Accuracy:  0.5471698113207547\n",
      "F1 score: 0.6677233831764575\n"
     ]
    }
   ],
   "source": [
    "validate_all_together(logreg,data_validation,pram_train)"
   ]
  },
  {
   "cell_type": "code",
   "execution_count": 17,
   "metadata": {},
   "outputs": [],
   "source": [
    "logreg = LogisticRegression(solver='liblinear', class_weight = 'balanced')    \n",
    "train_category_year(logreg,data_temp,pram_train)\n",
    "validation_category_base(logreg,data_validation,pram_train)"
   ]
  },
  {
   "cell_type": "code",
   "execution_count": null,
   "metadata": {},
   "outputs": [],
   "source": []
  },
  {
   "cell_type": "code",
   "execution_count": null,
   "metadata": {},
   "outputs": [],
   "source": []
  },
  {
   "cell_type": "code",
   "execution_count": null,
   "metadata": {},
   "outputs": [],
   "source": []
  },
  {
   "cell_type": "code",
   "execution_count": 18,
   "metadata": {},
   "outputs": [],
   "source": [
    "logreg = RandomForestClassifier(n_estimators=10)\n",
    "train_year_category(logreg,data_temp,pram_train)\n",
    "validation_category_base(logreg,data_validation,pram_train)"
   ]
  },
  {
   "cell_type": "code",
   "execution_count": 19,
   "metadata": {},
   "outputs": [
    {
     "name": "stdout",
     "output_type": "stream",
     "text": [
      "validating with out category sepration\n"
     ]
    },
    {
     "ename": "NotFittedError",
     "evalue": "This RandomForestClassifier instance is not fitted yet. Call 'fit' with appropriate arguments before using this method.",
     "traceback": [
      "\u001b[0;31m---------------------------------------------------------------------------\u001b[0m",
      "\u001b[0;31mNotFittedError\u001b[0m                            Traceback (most recent call last)",
      "\u001b[0;32m<ipython-input-19-2a7689e2d183>\u001b[0m in \u001b[0;36m<module>\u001b[0;34m()\u001b[0m\n\u001b[0;32m----> 1\u001b[0;31m \u001b[0mvalidate_all_together\u001b[0m\u001b[0;34m(\u001b[0m\u001b[0mlogreg\u001b[0m\u001b[0;34m,\u001b[0m\u001b[0mdata_validation\u001b[0m\u001b[0;34m,\u001b[0m\u001b[0mpram_train\u001b[0m\u001b[0;34m)\u001b[0m\u001b[0;34m\u001b[0m\u001b[0;34m\u001b[0m\u001b[0m\n\u001b[0m",
      "\u001b[0;32m<ipython-input-7-8efaf6081bee>\u001b[0m in \u001b[0;36mvalidate_all_together\u001b[0;34m(logreg, data_validation, pram_train)\u001b[0m\n\u001b[1;32m      4\u001b[0m     \u001b[0my_validation\u001b[0m \u001b[0;34m=\u001b[0m \u001b[0mdata_validation\u001b[0m\u001b[0;34m[\u001b[0m\u001b[0;34m'winner'\u001b[0m\u001b[0;34m]\u001b[0m\u001b[0;34m\u001b[0m\u001b[0;34m\u001b[0m\u001b[0m\n\u001b[1;32m      5\u001b[0m     \u001b[0;32mif\u001b[0m \u001b[0mlen\u001b[0m\u001b[0;34m(\u001b[0m\u001b[0mX_validation\u001b[0m\u001b[0;34m!=\u001b[0m\u001b[0;36m0\u001b[0m\u001b[0;34m)\u001b[0m\u001b[0;34m:\u001b[0m\u001b[0;34m\u001b[0m\u001b[0;34m\u001b[0m\u001b[0m\n\u001b[0;32m----> 6\u001b[0;31m         \u001b[0my_result\u001b[0m \u001b[0;34m=\u001b[0m \u001b[0mlogreg\u001b[0m\u001b[0;34m.\u001b[0m\u001b[0mpredict\u001b[0m\u001b[0;34m(\u001b[0m\u001b[0mX_validation\u001b[0m\u001b[0;34m)\u001b[0m\u001b[0;34m\u001b[0m\u001b[0;34m\u001b[0m\u001b[0m\n\u001b[0m\u001b[1;32m      7\u001b[0m         \u001b[0mpredictions\u001b[0m \u001b[0;34m=\u001b[0m \u001b[0mpd\u001b[0m\u001b[0;34m.\u001b[0m\u001b[0mDataFrame\u001b[0m\u001b[0;34m(\u001b[0m\u001b[0my_result\u001b[0m\u001b[0;34m)\u001b[0m\u001b[0;34m\u001b[0m\u001b[0;34m\u001b[0m\u001b[0m\n\u001b[1;32m      8\u001b[0m         \u001b[0mprint\u001b[0m\u001b[0;34m(\u001b[0m\u001b[0mclassification_report\u001b[0m\u001b[0;34m(\u001b[0m\u001b[0my_validation\u001b[0m\u001b[0;34m,\u001b[0m \u001b[0my_result\u001b[0m\u001b[0;34m)\u001b[0m\u001b[0;34m)\u001b[0m\u001b[0;34m\u001b[0m\u001b[0;34m\u001b[0m\u001b[0m\n",
      "\u001b[0;32m~/anaconda3/lib/python3.6/site-packages/sklearn/ensemble/forest.py\u001b[0m in \u001b[0;36mpredict\u001b[0;34m(self, X)\u001b[0m\n\u001b[1;32m    536\u001b[0m             \u001b[0mThe\u001b[0m \u001b[0mpredicted\u001b[0m \u001b[0mclasses\u001b[0m\u001b[0;34m.\u001b[0m\u001b[0;34m\u001b[0m\u001b[0;34m\u001b[0m\u001b[0m\n\u001b[1;32m    537\u001b[0m         \"\"\"\n\u001b[0;32m--> 538\u001b[0;31m         \u001b[0mproba\u001b[0m \u001b[0;34m=\u001b[0m \u001b[0mself\u001b[0m\u001b[0;34m.\u001b[0m\u001b[0mpredict_proba\u001b[0m\u001b[0;34m(\u001b[0m\u001b[0mX\u001b[0m\u001b[0;34m)\u001b[0m\u001b[0;34m\u001b[0m\u001b[0;34m\u001b[0m\u001b[0m\n\u001b[0m\u001b[1;32m    539\u001b[0m \u001b[0;34m\u001b[0m\u001b[0m\n\u001b[1;32m    540\u001b[0m         \u001b[0;32mif\u001b[0m \u001b[0mself\u001b[0m\u001b[0;34m.\u001b[0m\u001b[0mn_outputs_\u001b[0m \u001b[0;34m==\u001b[0m \u001b[0;36m1\u001b[0m\u001b[0;34m:\u001b[0m\u001b[0;34m\u001b[0m\u001b[0;34m\u001b[0m\u001b[0m\n",
      "\u001b[0;32m~/anaconda3/lib/python3.6/site-packages/sklearn/ensemble/forest.py\u001b[0m in \u001b[0;36mpredict_proba\u001b[0;34m(self, X)\u001b[0m\n\u001b[1;32m    574\u001b[0m             \u001b[0mclasses\u001b[0m \u001b[0mcorresponds\u001b[0m \u001b[0mto\u001b[0m \u001b[0mthat\u001b[0m \u001b[0;32min\u001b[0m \u001b[0mthe\u001b[0m \u001b[0mattribute\u001b[0m\u001b[0;31m \u001b[0m\u001b[0;31m`\u001b[0m\u001b[0mclasses_\u001b[0m\u001b[0;31m`\u001b[0m\u001b[0;34m.\u001b[0m\u001b[0;34m\u001b[0m\u001b[0;34m\u001b[0m\u001b[0m\n\u001b[1;32m    575\u001b[0m         \"\"\"\n\u001b[0;32m--> 576\u001b[0;31m         \u001b[0mcheck_is_fitted\u001b[0m\u001b[0;34m(\u001b[0m\u001b[0mself\u001b[0m\u001b[0;34m,\u001b[0m \u001b[0;34m'estimators_'\u001b[0m\u001b[0;34m)\u001b[0m\u001b[0;34m\u001b[0m\u001b[0;34m\u001b[0m\u001b[0m\n\u001b[0m\u001b[1;32m    577\u001b[0m         \u001b[0;31m# Check data\u001b[0m\u001b[0;34m\u001b[0m\u001b[0;34m\u001b[0m\u001b[0;34m\u001b[0m\u001b[0m\n\u001b[1;32m    578\u001b[0m         \u001b[0mX\u001b[0m \u001b[0;34m=\u001b[0m \u001b[0mself\u001b[0m\u001b[0;34m.\u001b[0m\u001b[0m_validate_X_predict\u001b[0m\u001b[0;34m(\u001b[0m\u001b[0mX\u001b[0m\u001b[0;34m)\u001b[0m\u001b[0;34m\u001b[0m\u001b[0;34m\u001b[0m\u001b[0m\n",
      "\u001b[0;32m~/anaconda3/lib/python3.6/site-packages/sklearn/utils/validation.py\u001b[0m in \u001b[0;36mcheck_is_fitted\u001b[0;34m(estimator, attributes, msg, all_or_any)\u001b[0m\n\u001b[1;32m    766\u001b[0m \u001b[0;34m\u001b[0m\u001b[0m\n\u001b[1;32m    767\u001b[0m     \u001b[0;32mif\u001b[0m \u001b[0;32mnot\u001b[0m \u001b[0mall_or_any\u001b[0m\u001b[0;34m(\u001b[0m\u001b[0;34m[\u001b[0m\u001b[0mhasattr\u001b[0m\u001b[0;34m(\u001b[0m\u001b[0mestimator\u001b[0m\u001b[0;34m,\u001b[0m \u001b[0mattr\u001b[0m\u001b[0;34m)\u001b[0m \u001b[0;32mfor\u001b[0m \u001b[0mattr\u001b[0m \u001b[0;32min\u001b[0m \u001b[0mattributes\u001b[0m\u001b[0;34m]\u001b[0m\u001b[0;34m)\u001b[0m\u001b[0;34m:\u001b[0m\u001b[0;34m\u001b[0m\u001b[0;34m\u001b[0m\u001b[0m\n\u001b[0;32m--> 768\u001b[0;31m         \u001b[0;32mraise\u001b[0m \u001b[0mNotFittedError\u001b[0m\u001b[0;34m(\u001b[0m\u001b[0mmsg\u001b[0m \u001b[0;34m%\u001b[0m \u001b[0;34m{\u001b[0m\u001b[0;34m'name'\u001b[0m\u001b[0;34m:\u001b[0m \u001b[0mtype\u001b[0m\u001b[0;34m(\u001b[0m\u001b[0mestimator\u001b[0m\u001b[0;34m)\u001b[0m\u001b[0;34m.\u001b[0m\u001b[0m__name__\u001b[0m\u001b[0;34m}\u001b[0m\u001b[0;34m)\u001b[0m\u001b[0;34m\u001b[0m\u001b[0;34m\u001b[0m\u001b[0m\n\u001b[0m\u001b[1;32m    769\u001b[0m \u001b[0;34m\u001b[0m\u001b[0m\n\u001b[1;32m    770\u001b[0m \u001b[0;34m\u001b[0m\u001b[0m\n",
      "\u001b[0;31mNotFittedError\u001b[0m: This RandomForestClassifier instance is not fitted yet. Call 'fit' with appropriate arguments before using this method."
     ],
     "output_type": "error"
    }
   ],
   "source": [
    "validate_all_together(logreg,data_validation,pram_train)"
   ]
  },
  {
   "cell_type": "code",
   "execution_count": null,
   "metadata": {},
   "outputs": [],
   "source": []
  },
  {
   "cell_type": "code",
   "execution_count": null,
   "metadata": {},
   "outputs": [],
   "source": []
  },
  {
   "cell_type": "code",
   "execution_count": null,
   "metadata": {},
   "outputs": [],
   "source": []
  },
  {
   "cell_type": "code",
   "execution_count": null,
   "metadata": {},
   "outputs": [],
   "source": []
  },
  {
   "cell_type": "code",
   "execution_count": null,
   "metadata": {},
   "outputs": [],
   "source": []
  },
  {
   "cell_type": "code",
   "execution_count": null,
   "metadata": {},
   "outputs": [],
   "source": []
  },
  {
   "cell_type": "code",
   "execution_count": null,
   "metadata": {},
   "outputs": [],
   "source": []
  },
  {
   "cell_type": "code",
   "execution_count": null,
   "metadata": {},
   "outputs": [],
   "source": []
  },
  {
   "cell_type": "code",
   "execution_count": null,
   "metadata": {},
   "outputs": [],
   "source": []
  },
  {
   "cell_type": "code",
   "execution_count": null,
   "metadata": {},
   "outputs": [],
   "source": []
  },
  {
   "cell_type": "code",
   "execution_count": null,
   "metadata": {},
   "outputs": [],
   "source": []
  },
  {
   "cell_type": "code",
   "execution_count": null,
   "metadata": {},
   "outputs": [],
   "source": []
  }
 ],
 "metadata": {
  "kernelspec": {
   "display_name": "Python 3",
   "language": "python",
   "name": "python3"
  },
  "language_info": {
   "codemirror_mode": {
    "name": "ipython",
    "version": 3
   },
   "file_extension": ".py",
   "mimetype": "text/x-python",
   "name": "python",
   "nbconvert_exporter": "python",
   "pygments_lexer": "ipython3",
   "version": "3.6.8"
  }
 },
 "nbformat": 4,
 "nbformat_minor": 2
}
