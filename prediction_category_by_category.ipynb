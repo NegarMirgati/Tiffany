{
 "cells": [
  {
   "cell_type": "code",
   "execution_count": 1,
   "metadata": {},
   "outputs": [],
   "source": [
    "# Importing Libraries\n",
    "import matplotlib.pyplot as plt\n",
    "from sklearn.linear_model import LogisticRegression\n",
    "from sklearn.metrics import classification_report, confusion_matrix  \n",
    "import pandas as pd\n",
    "import sklearn.metrics as metrics\n",
    "from sklearn.metrics import f1_score\n",
    "import numpy as np\n",
    "from sklearn.ensemble import RandomForestClassifier, GradientBoostingClassifier\n",
    "from sklearn.naive_bayes import GaussianNB\n",
    "from sklearn.model_selection import KFold, StratifiedKFold, cross_val_score \n",
    "from sklearn.ensemble import AdaBoostClassifier\n",
    "from sklearn.utils import resample\n",
    "from sklearn.svm import SVC  \n",
    "from sklearn.neighbors import KNeighborsClassifier"
   ]
  },
  {
   "cell_type": "code",
   "execution_count": 3,
   "metadata": {},
   "outputs": [
    {
     "data": {
      "text/html": [
       "<div>\n",
       "<style scoped>\n",
       "    .dataframe tbody tr th:only-of-type {\n",
       "        vertical-align: middle;\n",
       "    }\n",
       "\n",
       "    .dataframe tbody tr th {\n",
       "        vertical-align: top;\n",
       "    }\n",
       "\n",
       "    .dataframe thead th {\n",
       "        text-align: right;\n",
       "    }\n",
       "</style>\n",
       "<table border=\"1\" class=\"dataframe\">\n",
       "  <thead>\n",
       "    <tr style=\"text-align: right;\">\n",
       "      <th></th>\n",
       "      <th>year</th>\n",
       "      <th>name</th>\n",
       "      <th>writer</th>\n",
       "      <th>category</th>\n",
       "      <th>winner</th>\n",
       "      <th>num 1 stars</th>\n",
       "      <th>num 2 stars</th>\n",
       "      <th>num 3 stars</th>\n",
       "      <th>num 4 stars</th>\n",
       "      <th>num 5 stars</th>\n",
       "      <th>average rating</th>\n",
       "    </tr>\n",
       "  </thead>\n",
       "  <tbody>\n",
       "    <tr>\n",
       "      <th>0</th>\n",
       "      <td>2013</td>\n",
       "      <td>Avatar: The Last Airbender: The Search, Part 1</td>\n",
       "      <td>['Gene Luen Yang', 'Bryan Konietzko', 'Michael...</td>\n",
       "      <td>0</td>\n",
       "      <td>0</td>\n",
       "      <td>0.027397</td>\n",
       "      <td>0.010274</td>\n",
       "      <td>0.106164</td>\n",
       "      <td>0.325342</td>\n",
       "      <td>0.530822</td>\n",
       "      <td>4.321918</td>\n",
       "    </tr>\n",
       "    <tr>\n",
       "      <th>1</th>\n",
       "      <td>2013</td>\n",
       "      <td>The Walking Dead, Vol. 18: What Comes After</td>\n",
       "      <td>['Robert Kirkman', 'Charlie Adlard', 'Cliff Ra...</td>\n",
       "      <td>0</td>\n",
       "      <td>0</td>\n",
       "      <td>0.003344</td>\n",
       "      <td>0.023411</td>\n",
       "      <td>0.224080</td>\n",
       "      <td>0.431438</td>\n",
       "      <td>0.317726</td>\n",
       "      <td>4.036789</td>\n",
       "    </tr>\n",
       "    <tr>\n",
       "      <th>2</th>\n",
       "      <td>2013</td>\n",
       "      <td>Batman, Volume 2: The City of Owls</td>\n",
       "      <td>['Scott Snyder', 'Greg Capullo', 'Jonathan Gla...</td>\n",
       "      <td>0</td>\n",
       "      <td>0</td>\n",
       "      <td>0.000000</td>\n",
       "      <td>0.007380</td>\n",
       "      <td>0.114391</td>\n",
       "      <td>0.365314</td>\n",
       "      <td>0.512915</td>\n",
       "      <td>4.383764</td>\n",
       "    </tr>\n",
       "    <tr>\n",
       "      <th>3</th>\n",
       "      <td>2013</td>\n",
       "      <td>Kick-Ass 2</td>\n",
       "      <td>['Mark Millar', 'John Romita Jr.', 'Tom Palmer...</td>\n",
       "      <td>0</td>\n",
       "      <td>0</td>\n",
       "      <td>0.026667</td>\n",
       "      <td>0.063333</td>\n",
       "      <td>0.306667</td>\n",
       "      <td>0.360000</td>\n",
       "      <td>0.243333</td>\n",
       "      <td>3.730000</td>\n",
       "    </tr>\n",
       "    <tr>\n",
       "      <th>4</th>\n",
       "      <td>2013</td>\n",
       "      <td>American Vampire, Vol. 5</td>\n",
       "      <td>['Scott Snyder', 'Rafael Albuquerque', 'Dustin...</td>\n",
       "      <td>0</td>\n",
       "      <td>0</td>\n",
       "      <td>0.003333</td>\n",
       "      <td>0.023333</td>\n",
       "      <td>0.103333</td>\n",
       "      <td>0.440000</td>\n",
       "      <td>0.430000</td>\n",
       "      <td>4.270000</td>\n",
       "    </tr>\n",
       "    <tr>\n",
       "      <th>...</th>\n",
       "      <td>...</td>\n",
       "      <td>...</td>\n",
       "      <td>...</td>\n",
       "      <td>...</td>\n",
       "      <td>...</td>\n",
       "      <td>...</td>\n",
       "      <td>...</td>\n",
       "      <td>...</td>\n",
       "      <td>...</td>\n",
       "      <td>...</td>\n",
       "      <td>...</td>\n",
       "    </tr>\n",
       "    <tr>\n",
       "      <th>3802</th>\n",
       "      <td>2016</td>\n",
       "      <td>Cravings: Recipes for All the Food You Want to...</td>\n",
       "      <td>['Chrissy Teigen', 'Adeena Sussman']</td>\n",
       "      <td>19</td>\n",
       "      <td>1</td>\n",
       "      <td>0.003623</td>\n",
       "      <td>0.018116</td>\n",
       "      <td>0.090580</td>\n",
       "      <td>0.275362</td>\n",
       "      <td>0.612319</td>\n",
       "      <td>4.474638</td>\n",
       "    </tr>\n",
       "    <tr>\n",
       "      <th>3803</th>\n",
       "      <td>2016</td>\n",
       "      <td>Appetites: A Cookbook</td>\n",
       "      <td>['Anthony Bourdain']</td>\n",
       "      <td>19</td>\n",
       "      <td>0</td>\n",
       "      <td>0.037190</td>\n",
       "      <td>0.045455</td>\n",
       "      <td>0.214876</td>\n",
       "      <td>0.334711</td>\n",
       "      <td>0.367769</td>\n",
       "      <td>3.950413</td>\n",
       "    </tr>\n",
       "    <tr>\n",
       "      <th>3804</th>\n",
       "      <td>2016</td>\n",
       "      <td>Run Fast. Eat Slow.</td>\n",
       "      <td>['Shalane Flanagan', 'Elyse Kopecky']</td>\n",
       "      <td>19</td>\n",
       "      <td>0</td>\n",
       "      <td>0.006849</td>\n",
       "      <td>0.020548</td>\n",
       "      <td>0.130137</td>\n",
       "      <td>0.294521</td>\n",
       "      <td>0.547945</td>\n",
       "      <td>4.356164</td>\n",
       "    </tr>\n",
       "    <tr>\n",
       "      <th>3805</th>\n",
       "      <td>2016</td>\n",
       "      <td>Smuggler's Cove: Exotic Cocktails, Rum, and th...</td>\n",
       "      <td>['Martin Cate', 'Rebecca Cate']</td>\n",
       "      <td>19</td>\n",
       "      <td>0</td>\n",
       "      <td>0.000000</td>\n",
       "      <td>0.000000</td>\n",
       "      <td>0.125000</td>\n",
       "      <td>0.208333</td>\n",
       "      <td>0.666667</td>\n",
       "      <td>4.541667</td>\n",
       "    </tr>\n",
       "    <tr>\n",
       "      <th>3806</th>\n",
       "      <td>2016</td>\n",
       "      <td>Eating in the Middle: A Mostly Wholesome Cookbook</td>\n",
       "      <td>['Andie Mitchell']</td>\n",
       "      <td>19</td>\n",
       "      <td>0</td>\n",
       "      <td>0.016807</td>\n",
       "      <td>0.075630</td>\n",
       "      <td>0.260504</td>\n",
       "      <td>0.365546</td>\n",
       "      <td>0.281513</td>\n",
       "      <td>3.819328</td>\n",
       "    </tr>\n",
       "  </tbody>\n",
       "</table>\n",
       "<p>3807 rows × 11 columns</p>\n",
       "</div>"
      ],
      "text/plain": [
       "<div>\n",
       "<style scoped>\n",
       "    .dataframe tbody tr th:only-of-type {\n",
       "        vertical-align: middle;\n",
       "    }\n",
       "\n",
       "    .dataframe tbody tr th {\n",
       "        vertical-align: top;\n",
       "    }\n",
       "\n",
       "    .dataframe thead th {\n",
       "        text-align: right;\n",
       "    }\n",
       "</style>\n",
       "<table border=\"1\" class=\"dataframe\">\n",
       "  <thead>\n",
       "    <tr style=\"text-align: right;\">\n",
       "      <th></th>\n",
       "      <th>year</th>\n",
       "      <th>name</th>\n",
       "      <th>writer</th>\n",
       "      <th>category</th>\n",
       "      <th>winner</th>\n",
       "      <th>num 1 stars</th>\n",
       "      <th>num 2 stars</th>\n",
       "      <th>num 3 stars</th>\n",
       "      <th>num 4 stars</th>\n",
       "      <th>num 5 stars</th>\n",
       "      <th>average rating</th>\n",
       "    </tr>\n",
       "  </thead>\n",
       "  <tbody>\n",
       "    <tr>\n",
       "      <th>0</th>\n",
       "      <td>2013</td>\n",
       "      <td>Avatar: The Last Airbender: The Search, Part 1</td>\n",
       "      <td>['Gene Luen Yang', 'Bryan Konietzko', 'Michael...</td>\n",
       "      <td>0</td>\n",
       "      <td>0</td>\n",
       "      <td>0.027397</td>\n",
       "      <td>0.010274</td>\n",
       "      <td>0.106164</td>\n",
       "      <td>0.325342</td>\n",
       "      <td>0.530822</td>\n",
       "      <td>4.321918</td>\n",
       "    </tr>\n",
       "    <tr>\n",
       "      <th>1</th>\n",
       "      <td>2013</td>\n",
       "      <td>The Walking Dead, Vol. 18: What Comes After</td>\n",
       "      <td>['Robert Kirkman', 'Charlie Adlard', 'Cliff Ra...</td>\n",
       "      <td>0</td>\n",
       "      <td>0</td>\n",
       "      <td>0.003344</td>\n",
       "      <td>0.023411</td>\n",
       "      <td>0.224080</td>\n",
       "      <td>0.431438</td>\n",
       "      <td>0.317726</td>\n",
       "      <td>4.036789</td>\n",
       "    </tr>\n",
       "    <tr>\n",
       "      <th>2</th>\n",
       "      <td>2013</td>\n",
       "      <td>Batman, Volume 2: The City of Owls</td>\n",
       "      <td>['Scott Snyder', 'Greg Capullo', 'Jonathan Gla...</td>\n",
       "      <td>0</td>\n",
       "      <td>0</td>\n",
       "      <td>0.000000</td>\n",
       "      <td>0.007380</td>\n",
       "      <td>0.114391</td>\n",
       "      <td>0.365314</td>\n",
       "      <td>0.512915</td>\n",
       "      <td>4.383764</td>\n",
       "    </tr>\n",
       "    <tr>\n",
       "      <th>3</th>\n",
       "      <td>2013</td>\n",
       "      <td>Kick-Ass 2</td>\n",
       "      <td>['Mark Millar', 'John Romita Jr.', 'Tom Palmer...</td>\n",
       "      <td>0</td>\n",
       "      <td>0</td>\n",
       "      <td>0.026667</td>\n",
       "      <td>0.063333</td>\n",
       "      <td>0.306667</td>\n",
       "      <td>0.360000</td>\n",
       "      <td>0.243333</td>\n",
       "      <td>3.730000</td>\n",
       "    </tr>\n",
       "    <tr>\n",
       "      <th>4</th>\n",
       "      <td>2013</td>\n",
       "      <td>American Vampire, Vol. 5</td>\n",
       "      <td>['Scott Snyder', 'Rafael Albuquerque', 'Dustin...</td>\n",
       "      <td>0</td>\n",
       "      <td>0</td>\n",
       "      <td>0.003333</td>\n",
       "      <td>0.023333</td>\n",
       "      <td>0.103333</td>\n",
       "      <td>0.440000</td>\n",
       "      <td>0.430000</td>\n",
       "      <td>4.270000</td>\n",
       "    </tr>\n",
       "    <tr>\n",
       "      <th>...</th>\n",
       "      <td>...</td>\n",
       "      <td>...</td>\n",
       "      <td>...</td>\n",
       "      <td>...</td>\n",
       "      <td>...</td>\n",
       "      <td>...</td>\n",
       "      <td>...</td>\n",
       "      <td>...</td>\n",
       "      <td>...</td>\n",
       "      <td>...</td>\n",
       "      <td>...</td>\n",
       "    </tr>\n",
       "    <tr>\n",
       "      <th>3802</th>\n",
       "      <td>2016</td>\n",
       "      <td>Cravings: Recipes for All the Food You Want to...</td>\n",
       "      <td>['Chrissy Teigen', 'Adeena Sussman']</td>\n",
       "      <td>19</td>\n",
       "      <td>1</td>\n",
       "      <td>0.003623</td>\n",
       "      <td>0.018116</td>\n",
       "      <td>0.090580</td>\n",
       "      <td>0.275362</td>\n",
       "      <td>0.612319</td>\n",
       "      <td>4.474638</td>\n",
       "    </tr>\n",
       "    <tr>\n",
       "      <th>3803</th>\n",
       "      <td>2016</td>\n",
       "      <td>Appetites: A Cookbook</td>\n",
       "      <td>['Anthony Bourdain']</td>\n",
       "      <td>19</td>\n",
       "      <td>0</td>\n",
       "      <td>0.037190</td>\n",
       "      <td>0.045455</td>\n",
       "      <td>0.214876</td>\n",
       "      <td>0.334711</td>\n",
       "      <td>0.367769</td>\n",
       "      <td>3.950413</td>\n",
       "    </tr>\n",
       "    <tr>\n",
       "      <th>3804</th>\n",
       "      <td>2016</td>\n",
       "      <td>Run Fast. Eat Slow.</td>\n",
       "      <td>['Shalane Flanagan', 'Elyse Kopecky']</td>\n",
       "      <td>19</td>\n",
       "      <td>0</td>\n",
       "      <td>0.006849</td>\n",
       "      <td>0.020548</td>\n",
       "      <td>0.130137</td>\n",
       "      <td>0.294521</td>\n",
       "      <td>0.547945</td>\n",
       "      <td>4.356164</td>\n",
       "    </tr>\n",
       "    <tr>\n",
       "      <th>3805</th>\n",
       "      <td>2016</td>\n",
       "      <td>Smuggler's Cove: Exotic Cocktails, Rum, and th...</td>\n",
       "      <td>['Martin Cate', 'Rebecca Cate']</td>\n",
       "      <td>19</td>\n",
       "      <td>0</td>\n",
       "      <td>0.000000</td>\n",
       "      <td>0.000000</td>\n",
       "      <td>0.125000</td>\n",
       "      <td>0.208333</td>\n",
       "      <td>0.666667</td>\n",
       "      <td>4.541667</td>\n",
       "    </tr>\n",
       "    <tr>\n",
       "      <th>3806</th>\n",
       "      <td>2016</td>\n",
       "      <td>Eating in the Middle: A Mostly Wholesome Cookbook</td>\n",
       "      <td>['Andie Mitchell']</td>\n",
       "      <td>19</td>\n",
       "      <td>0</td>\n",
       "      <td>0.016807</td>\n",
       "      <td>0.075630</td>\n",
       "      <td>0.260504</td>\n",
       "      <td>0.365546</td>\n",
       "      <td>0.281513</td>\n",
       "      <td>3.819328</td>\n",
       "    </tr>\n",
       "  </tbody>\n",
       "</table>\n",
       "<p>3807 rows × 11 columns</p>\n",
       "</div>"
      ]
     },
     "execution_count": 3,
     "metadata": {},
     "output_type": "execute_result"
    }
   ],
   "source": [
    "# read csv into pandas dataframe\n",
    "df = pd.read_csv('goodreads_output.csv')\n",
    "df.loc[(df['year'].isin([2018]))]['category'].unique()\n",
    "df['category'] = df['category'].map({\n",
    "'Graphic Novels & Comics' : 0,\n",
    "'Young Adult Fiction' : 1,\n",
    "'Memoir & Autobiography' : 2,\n",
    "'Picture Books' : 3,\n",
    "'Romance' : 4,\n",
    "'Humor' : 5,\n",
    "'Poetry' : 6,\n",
    "'Horror' : 7,\n",
    "'Young Adult Fantasy' : 8,\n",
    "'Science Fiction' : 9,\n",
    "\"Middle Grade & Children's\" : 10,\n",
    "'History & Biography' : 11,\n",
    "'Nonfiction' : 12,\n",
    "'Fantasy': 13,\n",
    "'Mystery & Thriller' : 14,\n",
    "'Historical Fiction' : 15,\n",
    "'Debut Goodreads Author' : 16,\n",
    "'Fiction' : 17,\n",
    "'Paranormal Fantasy' : 18,\n",
    "'Food & Cookbooks' : 19,\n",
    "'Business Books' : 20,\n",
    "'Science & Technology' : 21,\n",
    "'Goodreads Author' : 22,\n",
    "'Debut Novel' : 23,\n",
    "'Best of the Best' : 24,\n",
    "'Travel & Outdoors' : 25,\n",
    "'Food & Cooking' : 19,\n",
    "'Favorite Book of 2011' : 24,\n",
    "'Debut Author' : 26\n",
    "})\n",
    "#df = df.loc[(df['category'].isin([21]))]\n",
    "df"
   ]
  },
  {
   "cell_type": "code",
   "execution_count": 455,
   "metadata": {},
   "outputs": [],
   "source": [
    "dups = df[df.duplicated(['name', 'year', 'category'], keep=False)]"
   ]
  },
  {
   "cell_type": "code",
   "execution_count": 456,
   "metadata": {},
   "outputs": [
    {
     "name": "stdout",
     "output_type": "stream",
     "text": [
      "['num 1 stars', 'num 3 stars', 'num 4 stars', 'num 5 stars', 'average rating']\n"
     ]
    }
   ],
   "source": [
    "from sklearn.feature_selection import SelectKBest\n",
    "from sklearn.feature_selection import chi2\n",
    "from sklearn.preprocessing import MinMaxScaler\n",
    "X_norm = MinMaxScaler().fit_transform(X)\n",
    "chi_selector = SelectKBest(chi2, k=5)\n",
    "chi_selector.fit(X_norm, y)\n",
    "chi_support = chi_selector.get_support()\n",
    "chi_feature = X.loc[:,chi_support].columns.tolist()\n",
    "print(chi_feature)"
   ]
  },
  {
   "cell_type": "code",
   "execution_count": 457,
   "metadata": {
    "scrolled": true
   },
   "outputs": [
    {
     "data": {
      "text/plain": [
       "array([ 0,  1,  2,  3,  4,  5,  6,  7,  8,  9, 10, 11, 12, 13, 14, 15, 16,\n",
       "       21, 17, 19, 26, 24])"
      ]
     },
     "execution_count": 457,
     "metadata": {},
     "output_type": "execute_result"
    }
   ],
   "source": [
    "features = ['num 1 stars', 'num 3 stars', 'num 4 stars', 'num 5 stars', 'average rating']\n",
    "data_test = df.loc[(df['year'].isin([2018, 2017]))]\n",
    "X_test = data_test[features]\n",
    "y_test = data_test['winner']\n",
    "data_test['category'].unique()"
   ]
  },
  {
   "cell_type": "code",
   "execution_count": 458,
   "metadata": {},
   "outputs": [
    {
     "name": "stdout",
     "output_type": "stream",
     "text": [
      "2011\n",
      "fitting\n",
      "2012\n",
      "fitting\n",
      "2013\n",
      "fitting\n",
      "2014\n",
      "fitting\n",
      "2015\n",
      "fitting\n",
      "2016\n",
      "fitting\n"
     ]
    }
   ],
   "source": [
    "# Use 2011 - 2017 as train data and 2018 as test data\n",
    "logreg = LogisticRegression(solver='liblinear', class_weight = 'balanced')\n",
    "for year in [2011, 2012, 2013, 2014, 2015, 2016]:\n",
    "    print(year)\n",
    "    data_temp = df.loc[~(df['year'].isin([2018,2019]))]\n",
    "    data_train = data_temp.loc[(data_temp['year'].isin([year]))]\n",
    "    X_train = data_train[features]\n",
    "    y_train = data_train['winner']\n",
    "    if(len(X_train) != 0) : \n",
    "        print('fitting')\n",
    "        logreg.fit(X_train, y_train)"
   ]
  },
  {
   "cell_type": "code",
   "execution_count": 459,
   "metadata": {},
   "outputs": [
    {
     "data": {
      "text/plain": [
       "0    459\n",
       "1    365\n",
       "Name: 0, dtype: int64"
      ]
     },
     "execution_count": 459,
     "metadata": {},
     "output_type": "execute_result"
    }
   ],
   "source": [
    "y_pred = logreg.predict(X_test)\n",
    "predictions = pd.DataFrame(y_pred)\n",
    "predictions[0].value_counts()"
   ]
  },
  {
   "cell_type": "code",
   "execution_count": 460,
   "metadata": {},
   "outputs": [
    {
     "name": "stdout",
     "output_type": "stream",
     "text": [
      "             precision    recall  f1-score   support\n",
      "\n",
      "          0       0.96      0.56      0.71       783\n",
      "          1       0.06      0.51      0.10        41\n",
      "\n",
      "avg / total       0.91      0.56      0.68       824\n",
      "\n"
     ]
    }
   ],
   "source": [
    "print(classification_report(y_test, y_pred))"
   ]
  },
  {
   "cell_type": "code",
   "execution_count": 461,
   "metadata": {},
   "outputs": [
    {
     "name": "stdout",
     "output_type": "stream",
     "text": [
      "439 344 20 21\n"
     ]
    }
   ],
   "source": [
    "tn, fp, fn, tp = confusion_matrix(y_test,y_pred).ravel()\n",
    "print(tn, fp, fn, tp)"
   ]
  },
  {
   "cell_type": "code",
   "execution_count": 462,
   "metadata": {},
   "outputs": [
    {
     "name": "stdout",
     "output_type": "stream",
     "text": [
      "Accuracy:  0.558252427184466\n"
     ]
    }
   ],
   "source": [
    "print('Accuracy: ', metrics.accuracy_score(y_test, y_pred))\n",
    "#print('F1 score:', metrics.f1_score(y_test, y_pred, average='weighted', labels=np.unique(y_pred)))"
   ]
  },
  {
   "cell_type": "code",
   "execution_count": 382,
   "metadata": {},
   "outputs": [],
   "source": [
    "# Random Forest Classifier\n",
    "rfc = RandomForestClassifier(n_estimators=10, class_weight = 'balanced')\n",
    "for year in [2011, 2012, 2013, 2014, 2015, 2016, 2017]:\n",
    "    data_temp = df.loc[~(df['year'].isin([2018,2019]))]\n",
    "    data_train = data_temp.loc[(data_temp['year'].isin([year]))]\n",
    "    X_train = data_train[features]\n",
    "    y_train = data_train['winner']\n",
    "    if(len(X_train) != 0) : \n",
    "        rfc.fit(X_train, y_train)"
   ]
  },
  {
   "cell_type": "code",
   "execution_count": 383,
   "metadata": {},
   "outputs": [
    {
     "name": "stdout",
     "output_type": "stream",
     "text": [
      "             precision    recall  f1-score   support\n",
      "\n",
      "          0       0.95      0.99      0.97       403\n",
      "          1       0.14      0.05      0.07        21\n",
      "\n",
      "avg / total       0.91      0.94      0.92       424\n",
      "\n"
     ]
    }
   ],
   "source": [
    "rfc_pred = rfc.predict(X_test)\n",
    "metrics.accuracy_score(y_test, rfc_pred)\n",
    "print(classification_report(y_test, rfc_pred))"
   ]
  },
  {
   "cell_type": "code",
   "execution_count": 384,
   "metadata": {},
   "outputs": [
    {
     "name": "stdout",
     "output_type": "stream",
     "text": [
      "397 6 20 1\n"
     ]
    }
   ],
   "source": [
    "tn, fp, fn, tp = confusion_matrix(y_test, rfc_pred).ravel()\n",
    "print(tn, fp, fn, tp)"
   ]
  },
  {
   "cell_type": "code",
   "execution_count": 385,
   "metadata": {},
   "outputs": [],
   "source": [
    "# Gaussian Naive Bayes\n",
    "gnb = GaussianNB()\n",
    "for year in [2011, 2012, 2013, 2014, 2015, 2016, 2017]:\n",
    "    data_temp = df.loc[~(df['year'].isin([2018,2019]))]\n",
    "    data_train = data_temp.loc[(data_temp['year'].isin([year]))]\n",
    "    X_train = data_train[features]\n",
    "    y_train = data_train['winner']\n",
    "    if(len(X_train) != 0) : \n",
    "        gnb.fit(X_train, y_train)"
   ]
  },
  {
   "cell_type": "code",
   "execution_count": 386,
   "metadata": {},
   "outputs": [
    {
     "data": {
      "text/plain": [
       "0    416\n",
       "1      8\n",
       "Name: 0, dtype: int64"
      ]
     },
     "execution_count": 386,
     "metadata": {},
     "output_type": "execute_result"
    }
   ],
   "source": [
    "y_pred = gnb.predict(X_test)\n",
    "predictions = pd.DataFrame(y_pred)\n",
    "predictions[0].value_counts()"
   ]
  },
  {
   "cell_type": "code",
   "execution_count": 387,
   "metadata": {},
   "outputs": [
    {
     "name": "stdout",
     "output_type": "stream",
     "text": [
      "             precision    recall  f1-score   support\n",
      "\n",
      "          0       0.95      0.98      0.96       403\n",
      "          1       0.00      0.00      0.00        21\n",
      "\n",
      "avg / total       0.90      0.93      0.92       424\n",
      "\n"
     ]
    }
   ],
   "source": [
    "print(classification_report(y_test, y_pred))"
   ]
  },
  {
   "cell_type": "code",
   "execution_count": 393,
   "metadata": {},
   "outputs": [
    {
     "name": "stdout",
     "output_type": "stream",
     "text": [
      "391 12 20 1\n"
     ]
    }
   ],
   "source": [
    "tn, fp, fn, tp = confusion_matrix(y_test, y_pred).ravel()\n",
    "print(tn, fp, fn, tp)"
   ]
  },
  {
   "cell_type": "code",
   "execution_count": 397,
   "metadata": {},
   "outputs": [
    {
     "name": "stdout",
     "output_type": "stream",
     "text": [
      "             precision    recall  f1-score   support\n",
      "\n",
      "    nominee       0.95      0.97      0.96       403\n",
      "     winner       0.08      0.05      0.06        21\n",
      "\n",
      "avg / total       0.91      0.93      0.92       424\n",
      "\n"
     ]
    }
   ],
   "source": [
    "model_GB = GradientBoostingClassifier(n_estimators=1000)\n",
    "for year in [2011, 2012, 2013, 2014, 2015, 2016, 2017]:\n",
    "    data_temp = df.loc[~(df['year'].isin([2018,2019]))]\n",
    "    data_train = data_temp.loc[(data_temp['year'].isin([year]))]\n",
    "    X_train = data_train[features]\n",
    "    y_train = data_train['winner']\n",
    "    if(len(X_train) != 0) : \n",
    "        model_GB.fit(X_train , y_train)\n",
    "y_pred = model_GB.predict(X_test)\n",
    "target_names = ['nominee', 'winner']\n",
    "print(classification_report(y_test, y_pred, target_names = target_names))"
   ]
  },
  {
   "cell_type": "code",
   "execution_count": 394,
   "metadata": {},
   "outputs": [
    {
     "name": "stdout",
     "output_type": "stream",
     "text": [
      "391 12 20 1\n"
     ]
    }
   ],
   "source": [
    "tn, fp, fn, tp = confusion_matrix(y_test, y_pred).ravel()\n",
    "print(tn, fp, fn, tp)"
   ]
  },
  {
   "cell_type": "code",
   "execution_count": 400,
   "metadata": {},
   "outputs": [
    {
     "name": "stdout",
     "output_type": "stream",
     "text": [
      "             precision    recall  f1-score   support\n",
      "\n",
      "    nominee       0.95      0.98      0.96       403\n",
      "     winner       0.10      0.05      0.06        21\n",
      "\n",
      "avg / total       0.91      0.93      0.92       424\n",
      "\n"
     ]
    }
   ],
   "source": [
    "# AdaBoost classifier builds a strong classifier by combining multiple\n",
    "# poorly performing classifiers to get high accuracy strong classifier.\n",
    "model_ad = AdaBoostClassifier()\n",
    "for year in [2011, 2012, 2013, 2014, 2015, 2016, 2017]:\n",
    "    data_temp = df.loc[~(df['year'].isin([2018,2019]))]\n",
    "    data_train = data_temp.loc[(data_temp['year'].isin([year]))]\n",
    "    X_train = data_train[features]\n",
    "    y_train = data_train['winner']\n",
    "    if(len(X_train) != 0) : \n",
    "        model_ad.fit(X_train , y_train)\n",
    "        \n",
    "y_pred = model_ad.predict(X_test)\n",
    "target_names = ['nominee', 'winner']\n",
    "print(classification_report(y_test, y_pred, target_names = target_names))"
   ]
  },
  {
   "cell_type": "code",
   "execution_count": 401,
   "metadata": {},
   "outputs": [
    {
     "name": "stdout",
     "output_type": "stream",
     "text": [
      "394 9 20 1\n"
     ]
    }
   ],
   "source": [
    "tn, fp, fn, tp = confusion_matrix(y_test, y_pred).ravel()\n",
    "print(tn, fp, fn, tp)"
   ]
  },
  {
   "cell_type": "code",
   "execution_count": 420,
   "metadata": {},
   "outputs": [
    {
     "name": "stdout",
     "output_type": "stream",
     "text": [
      "             precision    recall  f1-score   support\n",
      "\n",
      "    nominee       0.95      1.00      0.97       403\n",
      "     winner       0.00      0.00      0.00        21\n",
      "\n",
      "avg / total       0.90      0.95      0.93       424\n",
      "\n"
     ]
    },
    {
     "name": "stderr",
     "output_type": "stream",
     "text": [
      "/Users/negar/anaconda3/lib/python3.6/site-packages/sklearn/metrics/classification.py:1135: UndefinedMetricWarning: Precision and F-score are ill-defined and being set to 0.0 in labels with no predicted samples.\n",
      "  'precision', 'predicted', average, warn_for)\n"
     ]
    }
   ],
   "source": [
    "knn = KNeighborsClassifier()\n",
    "for year in [2011, 2012, 2013, 2014, 2015, 2016, 2017]:\n",
    "    data_temp = df.loc[~(df['year'].isin([2018,2019]))]\n",
    "    data_train = data_temp.loc[(data_temp['year'].isin([year]))]\n",
    "    X_train = data_train[features]\n",
    "    y_train = data_train['winner']\n",
    "    if(len(X_train) != 0) : \n",
    "        knn.fit(X_train , y_train)\n",
    "        \n",
    "y_pred = knn.predict(X_test)\n",
    "target_names = ['nominee', 'winner']\n",
    "print(classification_report(y_test, y_pred, target_names = target_names))"
   ]
  },
  {
   "cell_type": "code",
   "execution_count": 421,
   "metadata": {},
   "outputs": [
    {
     "name": "stdout",
     "output_type": "stream",
     "text": [
      "403 0 21 0\n"
     ]
    }
   ],
   "source": [
    "tn, fp, fn, tp = confusion_matrix(y_test, y_pred).ravel()\n",
    "print(tn, fp, fn, tp)"
   ]
  },
  {
   "cell_type": "code",
   "execution_count": 432,
   "metadata": {},
   "outputs": [
    {
     "name": "stdout",
     "output_type": "stream",
     "text": [
      "             precision    recall  f1-score   support\n",
      "\n",
      "    nominee       0.95      1.00      0.97       403\n",
      "     winner       0.00      0.00      0.00        21\n",
      "\n",
      "avg / total       0.90      0.95      0.93       424\n",
      "\n"
     ]
    },
    {
     "name": "stderr",
     "output_type": "stream",
     "text": [
      "/Users/negar/anaconda3/lib/python3.6/site-packages/sklearn/metrics/classification.py:1135: UndefinedMetricWarning: Precision and F-score are ill-defined and being set to 0.0 in labels with no predicted samples.\n",
      "  'precision', 'predicted', average, warn_for)\n"
     ]
    }
   ],
   "source": [
    "from sklearn import linear_model\n",
    "clf = linear_model.SGDClassifier(max_iter=1000, tol=1e-3)\n",
    "for year in [2011, 2012, 2013, 2014, 2015, 2016, 2017]:\n",
    "    data_temp = df.loc[~(df['year'].isin([2018,2019]))]\n",
    "    data_train = data_temp.loc[(data_temp['year'].isin([year]))]\n",
    "    X_train = data_train[features]\n",
    "    y_train = data_train['winner']\n",
    "    if(len(X_train) != 0) : \n",
    "        clf.fit(X_train , y_train)\n",
    "        \n",
    "y_pred = clf.predict(X_test)\n",
    "target_names = ['nominee', 'winner']\n",
    "print(classification_report(y_test, y_pred, target_names = target_names))"
   ]
  },
  {
   "cell_type": "code",
   "execution_count": null,
   "metadata": {},
   "outputs": [],
   "source": []
  }
 ],
 "metadata": {
  "kernelspec": {
   "display_name": "Python 3",
   "language": "python",
   "name": "python3"
  },
  "language_info": {
   "codemirror_mode": {
    "name": "ipython",
    "version": 3
   },
   "file_extension": ".py",
   "mimetype": "text/x-python",
   "name": "python",
   "nbconvert_exporter": "python",
   "pygments_lexer": "ipython3",
   "version": "3.6.8"
  }
 },
 "nbformat": 4,
 "nbformat_minor": 2
}
